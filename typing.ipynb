{
 "cells": [
  {
   "cell_type": "markdown",
   "metadata": {},
   "source": [
    "# Typing Changes\n",
    "\n",
    "> Note: Here we use typing-extensions module instead of typing, as tools like pylance were not updated at the time."
   ]
  },
  {
   "cell_type": "markdown",
   "metadata": {},
   "source": [
    "### typing.Never\n",
    "Never type is a \"bottom type\" meaning matches nothing. This is the opposite of `typing.Any` which matches all types. \n",
    "\n",
    "#### Never as NoReturn\n",
    "Never as a return type is equivalent to `typing.NoReturn`."
   ]
  },
  {
   "cell_type": "code",
   "execution_count": 5,
   "metadata": {},
   "outputs": [],
   "source": [
    "from typing_extensions import Never\n",
    "\n",
    "\n",
    "def alway_raise() -> Never:  # Same as NoReturn\n",
    "    raise Exception(\"blah\")\n",
    "\n",
    "\n",
    "def sometimes_raise(error: bool) -> Never:\n",
    "    if not error:\n",
    "        return  # type checker ⭕\n",
    "    raise Exception(\"blah\")"
   ]
  },
  {
   "cell_type": "markdown",
   "metadata": {},
   "source": [
    "#### Never as an argument\n",
    "\n",
    "Never as an argument is not really something that'll be used frequently in day-to-day development, it's instead used to provide a method to type check unreachable code."
   ]
  },
  {
   "cell_type": "code",
   "execution_count": 4,
   "metadata": {},
   "outputs": [],
   "source": [
    "from typing_extensions import Never\n",
    "\n",
    "\n",
    "def never_called(value: Never) -> None:\n",
    "    pass\n",
    "\n",
    "\n",
    "def main(a: int):\n",
    "    if isinstance(a, int):\n",
    "        never_called(a)  # type checker ⭕\n",
    "        return\n",
    "\n",
    "    never_called(a)  # type checker 💚\n",
    "\n",
    "    # NOTE: Could also have done assert, but runtime behaviour\n",
    "    assert False\n"
   ]
  },
  {
   "cell_type": "markdown",
   "metadata": {},
   "source": [
    "There is actually a convenient way `typing.assert_never` method for this."
   ]
  },
  {
   "cell_type": "code",
   "execution_count": 17,
   "metadata": {},
   "outputs": [],
   "source": [
    "from typing_extensions import Never, assert_never, assert_type, reveal_type\n",
    "\n",
    "\n",
    "def identify(a: int | str) -> str:\n",
    "    if isinstance(a, int):\n",
    "        return \"it's an int\"\n",
    "\n",
    "    # type narrowing: a could only be a string here\n",
    "    assert_type(a, str)\n",
    "    if isinstance(a, str):\n",
    "        return \"it's a string\"\n",
    "\n",
    "    # further narrowed to Never here\n",
    "    reveal_type(a)\n",
    "    assert_type(a, Never)  # runtime this is a no-op\n",
    "    assert_never(a)  # Same as above but also fails at run time\n"
   ]
  },
  {
   "cell_type": "markdown",
   "metadata": {},
   "source": [
    "Let's check the runtime behaviour of the 3 new functions:"
   ]
  },
  {
   "cell_type": "code",
   "execution_count": 22,
   "metadata": {},
   "outputs": [
    {
     "name": "stderr",
     "output_type": "stream",
     "text": [
      "Runtime type is 'NoneType'\n"
     ]
    },
    {
     "ename": "AssertionError",
     "evalue": "Expected code to be unreachable, but got: None",
     "output_type": "error",
     "traceback": [
      "\u001b[0;31m---------------------------------------------------------------------------\u001b[0m",
      "\u001b[0;31mAssertionError\u001b[0m                            Traceback (most recent call last)",
      "\u001b[1;32m/home/jchang/git/python311/typing.ipynb Cell 9'\u001b[0m in \u001b[0;36m<cell line: 1>\u001b[0;34m()\u001b[0m\n\u001b[0;32m----> <a href='vscode-notebook-cell://wsl%2Bubuntu-20.04/home/jchang/git/python311/typing.ipynb#ch0000030vscode-remote?line=0'>1</a>\u001b[0m identify(\u001b[39mNone\u001b[39;00m)\n",
      "\u001b[1;32m/home/jchang/git/python311/typing.ipynb Cell 7'\u001b[0m in \u001b[0;36midentify\u001b[0;34m(a)\u001b[0m\n\u001b[1;32m     <a href='vscode-notebook-cell://wsl%2Bubuntu-20.04/home/jchang/git/python311/typing.ipynb#ch0000009vscode-remote?line=13'>14</a>\u001b[0m reveal_type(a)\n\u001b[1;32m     <a href='vscode-notebook-cell://wsl%2Bubuntu-20.04/home/jchang/git/python311/typing.ipynb#ch0000009vscode-remote?line=14'>15</a>\u001b[0m assert_type(a, Never)  \u001b[39m# runtime this is a no-op\u001b[39;00m\n\u001b[0;32m---> <a href='vscode-notebook-cell://wsl%2Bubuntu-20.04/home/jchang/git/python311/typing.ipynb#ch0000009vscode-remote?line=15'>16</a>\u001b[0m assert_never(a)\n",
      "File \u001b[0;32m/usr/lib/python3.11/typing.py:2435\u001b[0m, in \u001b[0;36massert_never\u001b[0;34m(arg)\u001b[0m\n\u001b[1;32m   <a href='file:///usr/lib/python3.11/typing.py?line=2432'>2433</a>\u001b[0m \u001b[39mif\u001b[39;00m \u001b[39mlen\u001b[39m(value) \u001b[39m>\u001b[39m _ASSERT_NEVER_REPR_MAX_LENGTH:\n\u001b[1;32m   <a href='file:///usr/lib/python3.11/typing.py?line=2433'>2434</a>\u001b[0m     value \u001b[39m=\u001b[39m value[:_ASSERT_NEVER_REPR_MAX_LENGTH] \u001b[39m+\u001b[39m \u001b[39m'\u001b[39m\u001b[39m...\u001b[39m\u001b[39m'\u001b[39m\n\u001b[0;32m-> <a href='file:///usr/lib/python3.11/typing.py?line=2434'>2435</a>\u001b[0m \u001b[39mraise\u001b[39;00m \u001b[39mAssertionError\u001b[39;00m(\u001b[39mf\u001b[39m\u001b[39m\"\u001b[39m\u001b[39mExpected code to be unreachable, but got: \u001b[39m\u001b[39m{\u001b[39;00mvalue\u001b[39m}\u001b[39;00m\u001b[39m\"\u001b[39m)\n",
      "\u001b[0;31mAssertionError\u001b[0m: Expected code to be unreachable, but got: None"
     ]
    }
   ],
   "source": [
    "identify(None)"
   ]
  },
  {
   "cell_type": "markdown",
   "metadata": {},
   "source": [
    "- typing.reveal_type: Forces the static type checker to output the type, and prints the type at runtime.\n",
    "- typing.assert_type: Forces the static type checker to check the type, no effect at runtime.\n",
    "- typing.assert_never: Same as `assert_type(blah, Never)` but also gives a runtime assertion error"
   ]
  },
  {
   "cell_type": "markdown",
   "metadata": {},
   "source": [
    "#### PEP 646: Variadic generics\n",
    "\n",
    "First let's review generics:"
   ]
  },
  {
   "cell_type": "code",
   "execution_count": 6,
   "metadata": {},
   "outputs": [],
   "source": [
    "from typing import Generic, TypeVar\n",
    "\n",
    "T = TypeVar(\"T\")\n",
    "\n",
    "\n",
    "class MyList(Generic[T]):\n",
    "    def __getitem__(self, index: int) -> T:\n",
    "        ...\n",
    "\n",
    "\n",
    "T_KEY = TypeVar(\"T_KEY\")\n",
    "T_VAL = TypeVar(\"T_VAL\")\n",
    "\n",
    "\n",
    "class MyDict(Generic[T_KEY, T_VAL]):\n",
    "    def __getitem__(self, key: T_KEY) -> T_VAL:\n",
    "        ..."
   ]
  },
  {
   "cell_type": "markdown",
   "metadata": {},
   "source": [
    "The tuple type allows for a variable number of type variables, for example:"
   ]
  },
  {
   "cell_type": "code",
   "execution_count": 11,
   "metadata": {},
   "outputs": [],
   "source": [
    "a: tuple[int, int] = (1, 2)\n",
    "b: tuple[str, ...] = ('', '', '')"
   ]
  },
  {
   "cell_type": "markdown",
   "metadata": {},
   "source": [
    "We can define similar generics using `typing.TypeVarTuple`"
   ]
  },
  {
   "cell_type": "code",
   "execution_count": 7,
   "metadata": {},
   "outputs": [],
   "source": [
    "from typing import Generic\n",
    "from typing_extensions import TypeVarTuple, Unpack\n",
    "\n",
    "KEYS = TypeVarTuple(\"KEYS\")\n",
    "\n",
    "\n",
    "class Row(Generic[Unpack[KEYS]]):\n",
    "    @property\n",
    "    def pk(self) -> tuple[Unpack[KEYS]]:\n",
    "        ...\n",
    "    \n",
    "\n",
    "class User(Row[str]):\n",
    "    ...\n",
    "\n",
    "\n",
    "class Item(Row[int]):\n",
    "    ...\n",
    "\n",
    "\n",
    "class UserItem(Row[str, int]):\n",
    "    ...\n"
   ]
  },
  {
   "cell_type": "markdown",
   "metadata": {},
   "source": [
    "In 3.11 you can use a * expression instead of Unpack.\n",
    "\n",
    "```python\n",
    "class Row(Generic[*KEYS]):\n",
    "    ...\n",
    "```"
   ]
  },
  {
   "cell_type": "markdown",
   "metadata": {},
   "source": [
    "`TypeVarTuple` could also be used similar to `ParamSpec` to define change in a function's parameter."
   ]
  },
  {
   "cell_type": "code",
   "execution_count": 8,
   "metadata": {},
   "outputs": [
    {
     "data": {
      "text/plain": [
       "3"
      ]
     },
     "execution_count": 8,
     "metadata": {},
     "output_type": "execute_result"
    }
   ],
   "source": [
    "from typing import Callable\n",
    "from typing_extensions import TypeVarTuple, Unpack\n",
    "\n",
    "P = TypeVarTuple(\"P\")\n",
    "T = TypeVar(\"T\")\n",
    "\n",
    "\n",
    "def add_context(fn: Callable[[Unpack[P], dict], T]) -> Callable[[Unpack[P]], T]:\n",
    "    def _new_fn(*args: Unpack[P]):\n",
    "        return fn(*args, {})\n",
    "\n",
    "    return _new_fn\n",
    "\n",
    "\n",
    "@add_context\n",
    "def operation(a: int, b: int, context: dict) -> int:\n",
    "    return a + b\n",
    "\n",
    "\n",
    "operation(1, 2)\n"
   ]
  },
  {
   "cell_type": "markdown",
   "metadata": {},
   "source": [
    "### PEP 673: Self type"
   ]
  },
  {
   "cell_type": "code",
   "execution_count": 9,
   "metadata": {},
   "outputs": [],
   "source": [
    "class Base:\n",
    "    @classmethod\n",
    "    def from_str(cls, input_string: str) -> \"Base\":\n",
    "        return cls()\n",
    "\n",
    "\n",
    "class Derived(Base):\n",
    "    pass\n",
    "\n",
    "\n",
    "d: Derived = Derived.from_str(\"my_string\")  # type checker: ⭕"
   ]
  },
  {
   "cell_type": "markdown",
   "metadata": {},
   "source": [
    "We can attempt to fix it like so:"
   ]
  },
  {
   "cell_type": "code",
   "execution_count": 10,
   "metadata": {},
   "outputs": [],
   "source": [
    "from typing import TypeVar\n",
    "\n",
    "T = TypeVar(\"T\")\n",
    "\n",
    "\n",
    "class Base2:\n",
    "    @classmethod\n",
    "    def from_str(cls: type[T], input_string: str) -> \"T\":\n",
    "        return cls()\n",
    "\n",
    "\n",
    "class Derived2(Base2):\n",
    "    pass\n",
    "\n",
    "\n",
    "d2: Derived2 = Derived2.from_str(\"my_string\")  # type checker: 💚\n"
   ]
  },
  {
   "cell_type": "markdown",
   "metadata": {},
   "source": [
    "Self can make this a lot clearer:"
   ]
  },
  {
   "cell_type": "code",
   "execution_count": 11,
   "metadata": {},
   "outputs": [],
   "source": [
    "from typing_extensions import Self\n",
    "\n",
    "class Base3:\n",
    "    @classmethod\n",
    "    def from_str(cls, input_string: str) -> Self:\n",
    "        return cls()\n",
    "\n",
    "\n",
    "class Derived3(Base3):\n",
    "    pass\n",
    "\n",
    "\n",
    "d3: Derived3 = Derived3.from_str(\"my_string\")  # type checker: 💚"
   ]
  },
  {
   "cell_type": "markdown",
   "metadata": {},
   "source": [
    "### PEP 675: Arbitrary literal string type"
   ]
  },
  {
   "cell_type": "code",
   "execution_count": 12,
   "metadata": {},
   "outputs": [],
   "source": [
    "from typing_extensions import LiteralString\n",
    "\n",
    "def execute(sql_query: LiteralString):\n",
    "    return None\n",
    "\n",
    "\n",
    "execute(\"SELECT * FROM table\")  # type checker: 💚\n",
    "execute(\"SELECT * FROM table\" + \"WHERE a = 2\")  # type checker: 💚\n",
    "\n",
    "where_clause: LiteralString = \"WHERE a = 2\"\n",
    "\n",
    "execute(f\"SELECT * FROM table {where_clause}\")  # type checker: ⭕\n",
    "execute(\"SELECT * FROM table {}\".format(where_clause))  # type checker: ⭕\n",
    "\n",
    "\n",
    "def generate_where_clause() -> str:\n",
    "    return \"INjection\"\n",
    "\n",
    "\n",
    "execute(\"SELECT * FROM table\" + generate_where_clause())  # type checker: ⭕\n"
   ]
  },
  {
   "cell_type": "markdown",
   "metadata": {},
   "source": [
    "### PEP 655: Marking individual TypedDict items as required or not-required"
   ]
  },
  {
   "cell_type": "code",
   "execution_count": 13,
   "metadata": {},
   "outputs": [],
   "source": [
    "from typing import TypedDict\n",
    "from typing_extensions import NotRequired, Required\n",
    "\n",
    "\n",
    "class MongoDoc(TypedDict):\n",
    "    _id: str\n",
    "    data: NotRequired[list]\n",
    "\n",
    "\n",
    "class MongoDocV2(TypedDict, total=False):\n",
    "    _id: Required[str]\n",
    "    data: list\n",
    "\n",
    "\n",
    "m1: MongoDoc = {\"_id\": \"abcd\"}\n",
    "m1 = {\"_id\": \"abcd\", \"something_else\": None}  # type checker: ⭕\n",
    "m2: MongoDocV2 = {\"_id\": \"abcd\"}\n",
    "m2 = {\"_id\": \"abcd\", \"something_else\": None}  # type checker: ⭕\n"
   ]
  },
  {
   "cell_type": "markdown",
   "metadata": {},
   "source": [
    "### typing.Any Changes"
   ]
  },
  {
   "cell_type": "code",
   "execution_count": 14,
   "metadata": {},
   "outputs": [
    {
     "name": "stdout",
     "output_type": "stream",
     "text": [
      "The event is <class '__main__.FakeEvent'>\n"
     ]
    }
   ],
   "source": [
    "class FakeEvent:\n",
    "    pass\n",
    "\n",
    "\n",
    "class Event:\n",
    "    pass\n",
    "\n",
    "\n",
    "def print_event(event: Event) -> None:\n",
    "    print(f\"The event is {event}\")\n",
    "\n",
    "\n",
    "print_event(FakeEvent)  # type checker ⭕"
   ]
  },
  {
   "cell_type": "markdown",
   "metadata": {},
   "source": [
    "Instead we can subclass `Any`, since an input of `Any` type will bind to any function argument."
   ]
  },
  {
   "cell_type": "code",
   "execution_count": 15,
   "metadata": {},
   "outputs": [
    {
     "name": "stdout",
     "output_type": "stream",
     "text": [
      "The event is <__main__.FakeEvent2 object at 0x7f603186fc50>\n"
     ]
    }
   ],
   "source": [
    "from typing import Any\n",
    "\n",
    "class FakeEvent2(Any):\n",
    "    ...\n",
    "\n",
    "\n",
    "print_event(FakeEvent2())"
   ]
  },
  {
   "cell_type": "markdown",
   "metadata": {},
   "source": [
    "#### PEP 681: typing.dataclass_transform\n",
    "\n",
    "dataclass_transform allows 3rd party libraries to create their own \"dataclass\" wrappers and for type checkers to understand them. "
   ]
  },
  {
   "cell_type": "code",
   "execution_count": 1,
   "metadata": {},
   "outputs": [
    {
     "data": {
      "text/plain": [
       "<__main__.Event at 0x7f670898abd0>"
      ]
     },
     "execution_count": 1,
     "metadata": {},
     "output_type": "execute_result"
    }
   ],
   "source": [
    "from typing import dataclass_transform\n",
    "\n",
    "\n",
    "@dataclass_transform(kw_only_default=True)\n",
    "class Record:\n",
    "    def __init__(self, **kwargs):\n",
    "        self.__dict__.update(kwargs)  # Something like this\n",
    "\n",
    "\n",
    "class Event(Record):\n",
    "    event_id: int\n",
    "\n",
    "\n",
    "Event(event_id=1)\n"
   ]
  }
 ],
 "metadata": {
  "interpreter": {
   "hash": "4c04b547f2649ac0f68f86e700992c92ea1904f2a786cfdb4538dcafbe0f2ab2"
  },
  "kernelspec": {
   "display_name": "Python 3.11.0b1 ('.venv': poetry)",
   "language": "python",
   "name": "python3"
  },
  "language_info": {
   "codemirror_mode": {
    "name": "ipython",
    "version": 3
   },
   "file_extension": ".py",
   "mimetype": "text/x-python",
   "name": "python",
   "nbconvert_exporter": "python",
   "pygments_lexer": "ipython3",
   "version": "3.11.0b1"
  },
  "orig_nbformat": 4
 },
 "nbformat": 4,
 "nbformat_minor": 2
}
