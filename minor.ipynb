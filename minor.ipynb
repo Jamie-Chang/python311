{
 "cells": [
  {
   "cell_type": "markdown",
   "metadata": {},
   "source": [
    "#### PEP 657 - Enhanced error locations in tracebacks\n",
    "\n",
    "*Unfortunately this is hard to demo in the jupyter shell*\n",
    "\n",
    "See the [example script](./errormsg.py) instead."
   ]
  },
  {
   "cell_type": "code",
   "execution_count": 32,
   "metadata": {},
   "outputs": [
    {
     "name": "stdout",
     "output_type": "stream",
     "text": [
      "Traceback (most recent call last):\n",
      "  File \"/home/jchang/git/python311/errormsg.py\", line 15, in <module>\n",
      "    ticket()\n",
      "    ^^^^^^^^\n",
      "  File \"/home/jchang/git/python311/errormsg.py\", line 11, in ticket\n",
      "    print(f\"{city1['name']}, {city1['country']} -> {city2['name']}, {city2['country']}\")\n",
      "                                                                     ~~~~~^^^^^^^^^^^\n",
      "KeyError: 'country'\n"
     ]
    }
   ],
   "source": [
    "! python errormsg.py"
   ]
  },
  {
   "cell_type": "markdown",
   "metadata": {},
   "source": [
    "#### PEP 678 – Enriching Exceptions with Notes\n",
    "\n",
    "Often times it's useful to add additional information to an error as the stack unwinds, doing this usually requires explicitly creating a custom exception class that can hold this information. \n",
    "\n",
    "In 3.11 a new method across all Exceptions allows notes to be added to exception objects."
   ]
  },
  {
   "cell_type": "code",
   "execution_count": 13,
   "metadata": {},
   "outputs": [
    {
     "name": "stdout",
     "output_type": "stream",
     "text": [
      "[\"Country name = 'UK'\"]\n"
     ]
    }
   ],
   "source": [
    "def create_city(name: str):\n",
    "    raise Exception(f\"Cannot create city {name = }\")\n",
    "\n",
    "\n",
    "def create_country(name: str):\n",
    "    try:\n",
    "        create_city(\"London\")\n",
    "    except Exception as e:\n",
    "        e.add_note(f\"Country {name = }\")\n",
    "        raise e\n",
    "\n",
    "\n",
    "try:\n",
    "    create_country(\"UK\")\n",
    "except Exception as e:\n",
    "    print(e.__notes__)"
   ]
  },
  {
   "cell_type": "markdown",
   "metadata": {},
   "source": [
    "Note: jupyter stacktraces do not include notes at the time of writing, this probably will be updated in the future."
   ]
  },
  {
   "cell_type": "markdown",
   "metadata": {},
   "source": [
    "#### datetime\n",
    "\n",
    "It is recommended to works with timezone sensitive datetimes as much as possible to avoid problems, there is now a quicker way to import the UTC timezone."
   ]
  },
  {
   "cell_type": "code",
   "execution_count": 14,
   "metadata": {},
   "outputs": [
    {
     "name": "stdout",
     "output_type": "stream",
     "text": [
      "1.000365\n"
     ]
    }
   ],
   "source": [
    "import time\n",
    "from datetime import UTC, datetime, timedelta, timezone\n",
    "\n",
    "# UTC is a new shortcut for timezone.utc\n",
    "assert UTC is timezone.utc\n",
    "\n",
    "start = datetime.now(UTC)\n",
    "time.sleep(1)\n",
    "end = datetime.now(UTC)\n",
    "\n",
    "print((end - start) / timedelta(seconds=1))"
   ]
  },
  {
   "cell_type": "markdown",
   "metadata": {},
   "source": [
    "Be aware: it might be tempting to use `utcnow` which creates a timezone naive datetime object. This can cause bugs if we're combining with a datetime from an external source or when working with summer time adjustments. Much safer is it to let Python standard library convert the datetime implicitly."
   ]
  },
  {
   "cell_type": "markdown",
   "metadata": {},
   "source": [
    "#### WeakRef Slotted Dataclasses"
   ]
  },
  {
   "cell_type": "code",
   "execution_count": 41,
   "metadata": {},
   "outputs": [
    {
     "ename": "TypeError",
     "evalue": "cannot create weak reference to 'NormalEvent' object",
     "output_type": "error",
     "traceback": [
      "\u001b[0;31m---------------------------------------------------------------------------\u001b[0m",
      "\u001b[0;31mTypeError\u001b[0m                                 Traceback (most recent call last)",
      "\u001b[1;32m/home/jchang/git/python311/misc.ipynb Cell 10'\u001b[0m in \u001b[0;36m<cell line: 9>\u001b[0;34m()\u001b[0m\n\u001b[1;32m      <a href='vscode-notebook-cell://wsl%2Bubuntu-20.04/home/jchang/git/python311/misc.ipynb#ch0000014vscode-remote?line=5'>6</a>\u001b[0m     \u001b[39mid\u001b[39m: \u001b[39mint\u001b[39m\n\u001b[1;32m      <a href='vscode-notebook-cell://wsl%2Bubuntu-20.04/home/jchang/git/python311/misc.ipynb#ch0000014vscode-remote?line=7'>8</a>\u001b[0m n \u001b[39m=\u001b[39m NormalEvent(\u001b[39m1\u001b[39m)\n\u001b[0;32m----> <a href='vscode-notebook-cell://wsl%2Bubuntu-20.04/home/jchang/git/python311/misc.ipynb#ch0000014vscode-remote?line=8'>9</a>\u001b[0m r \u001b[39m=\u001b[39m ref(n)\n",
      "\u001b[0;31mTypeError\u001b[0m: cannot create weak reference to 'NormalEvent' object"
     ]
    }
   ],
   "source": [
    "from dataclasses import dataclass\n",
    "from weakref import ref\n",
    "\n",
    "@dataclass(slots=True)\n",
    "class NormalEvent:\n",
    "    id: int\n",
    "\n",
    "n = NormalEvent(1)\n",
    "r = ref(n)"
   ]
  },
  {
   "cell_type": "code",
   "execution_count": 42,
   "metadata": {},
   "outputs": [
    {
     "data": {
      "text/plain": [
       "<weakref at 0x7f34e7e27c40; to 'Event' at 0x7f3508624190>"
      ]
     },
     "execution_count": 42,
     "metadata": {},
     "output_type": "execute_result"
    }
   ],
   "source": [
    "\n",
    "@dataclass(weakref_slot=True, slots=True)\n",
    "class Event:\n",
    "    id: int\n",
    "\n",
    "event = Event(1)\n",
    "ref(event)"
   ]
  },
  {
   "cell_type": "markdown",
   "metadata": {},
   "source": [
    "#### asyncio.Barrier"
   ]
  },
  {
   "cell_type": "code",
   "execution_count": 4,
   "metadata": {},
   "outputs": [
    {
     "name": "stdout",
     "output_type": "stream",
     "text": [
      "service a ready\n",
      "service b ready\n",
      "started service b\n",
      "started service a\n"
     ]
    }
   ],
   "source": [
    "import asyncio\n",
    "\n",
    "barrier = asyncio.Barrier(2)\n",
    "\n",
    "\n",
    "async def service(name):\n",
    "    print(f\"service {name} ready\")\n",
    "    async with barrier:\n",
    "        print(f\"started service {name}\")\n",
    "\n",
    "\n",
    "async with asyncio.TaskGroup() as g:\n",
    "    g.create_task(service(\"a\"))\n",
    "    g.create_task(service(\"b\"))"
   ]
  },
  {
   "cell_type": "markdown",
   "metadata": {},
   "source": [
    "#### Toml\n",
    "\n",
    "tomllib is added to Python's standard library as the toml format increases in popularity."
   ]
  },
  {
   "cell_type": "code",
   "execution_count": 6,
   "metadata": {},
   "outputs": [
    {
     "name": "stdout",
     "output_type": "stream",
     "text": [
      "{'tool': {'poetry': {'name': 'python311', 'version': '0.1.0', 'description': '', 'authors': ['Your Name <you@example.com>'], 'dependencies': {'python': '^3.11', 'ipykernel': '^6.13.0', 'nbconvert': '^6.5.0', 'typing-extensions': '^4.2.0', 'black': '^22.3.0'}, 'dev-dependencies': {'ipykernel': '^6.13.0'}}}, 'build-system': {'requires': ['poetry-core>=1.0.0'], 'build-backend': 'poetry.core.masonry.api'}}\n"
     ]
    }
   ],
   "source": [
    "import tomllib\n",
    "from pathlib import Path\n",
    "\n",
    "pyproject_file = Path('pyproject.toml')\n",
    "\n",
    "with pyproject_file.open('rb') as f:\n",
    "    print(tomllib.load(f))"
   ]
  }
 ],
 "metadata": {
  "interpreter": {
   "hash": "4c04b547f2649ac0f68f86e700992c92ea1904f2a786cfdb4538dcafbe0f2ab2"
  },
  "kernelspec": {
   "display_name": "Python 3.11.0b1 ('.venv': poetry)",
   "language": "python",
   "name": "python3"
  },
  "language_info": {
   "codemirror_mode": {
    "name": "ipython",
    "version": 3
   },
   "file_extension": ".py",
   "mimetype": "text/x-python",
   "name": "python",
   "nbconvert_exporter": "python",
   "pygments_lexer": "ipython3",
   "version": "3.11.0b1"
  },
  "orig_nbformat": 4
 },
 "nbformat": 4,
 "nbformat_minor": 2
}
