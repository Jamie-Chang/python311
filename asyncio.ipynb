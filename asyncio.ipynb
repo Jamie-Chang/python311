{
 "cells": [
  {
   "cell_type": "markdown",
   "metadata": {},
   "source": [
    "## Asyncio\n",
    "\n",
    "#### Reminder: tasks and gather\n",
    "`asyncio.create_task` is used to create tasks that run in the background.."
   ]
  },
  {
   "cell_type": "code",
   "execution_count": 3,
   "metadata": {},
   "outputs": [
    {
     "name": "stdout",
     "output_type": "stream",
     "text": [
      "Fired\n",
      "after\n"
     ]
    }
   ],
   "source": [
    "import asyncio\n",
    "\n",
    "\n",
    "async def fire_after(seconds: float) -> None:\n",
    "    await asyncio.sleep(seconds)\n",
    "    print(\"Fired\")\n",
    "\n",
    "\n",
    "t = asyncio.create_task(fire_after(0.1))\n",
    "await asyncio.sleep(0.2)\n",
    "print(\"after\")\n",
    "await t"
   ]
  },
  {
   "cell_type": "markdown",
   "metadata": {},
   "source": [
    "`asyncio.gather` is generally the easiest way to create parallel tasks."
   ]
  },
  {
   "cell_type": "code",
   "execution_count": 11,
   "metadata": {},
   "outputs": [
    {
     "data": {
      "text/plain": [
       "[0, 1, 2, 3, 4, 5, 6, 7, 8, 9, 10, 11, 12, 13, 14, 15, 16, 17, 18, 19]"
      ]
     },
     "execution_count": 11,
     "metadata": {},
     "output_type": "execute_result"
    }
   ],
   "source": [
    "import asyncio\n",
    "\n",
    "\n",
    "async def task(n: int) -> int:\n",
    "    await asyncio.sleep(random.uniform(0, 0.5))\n",
    "    return n\n",
    "\n",
    "\n",
    "await asyncio.gather(*(task(n) for n in range(20)))"
   ]
  },
  {
   "cell_type": "markdown",
   "metadata": {},
   "source": [
    "#### TaskGroup\n",
    "\n",
    "TaskGroup is a new feature in 3.11, it has a lot of similarities with gather. The task group will not exit until all tasks are completed or interrupted. \n",
    "\n",
    "The example above can be done quite simply by:"
   ]
  },
  {
   "cell_type": "code",
   "execution_count": 16,
   "metadata": {},
   "outputs": [],
   "source": [
    "async def task_group():\n",
    "    async with asyncio.TaskGroup() as g:\n",
    "        for n in range(20):\n",
    "            g.create_task(task(n))\n",
    "\n",
    "await task_group()"
   ]
  },
  {
   "cell_type": "markdown",
   "metadata": {},
   "source": [
    "Here we can dispatch 20 tasks quite easily, the task group context only exits after all 20 are complete.\n",
    "\n",
    "But how do we return the values as in `asyncio.gather`?\n",
    "\n",
    "`TaskGroup.create_task` does return a task that can be awaited for the results. We can await each of the tasks and obtain the result:"
   ]
  },
  {
   "cell_type": "code",
   "execution_count": 17,
   "metadata": {},
   "outputs": [
    {
     "data": {
      "text/plain": [
       "[0, 1, 2, 3, 4, 5, 6, 7, 8, 9, 10, 11, 12, 13, 14, 15, 16, 17, 18, 19]"
      ]
     },
     "execution_count": 17,
     "metadata": {},
     "output_type": "execute_result"
    }
   ],
   "source": [
    "async def task_group2():\n",
    "    async with asyncio.TaskGroup() as g:\n",
    "        futs = [g.create_task(task(n)) for n in range(20)]\n",
    "\n",
    "    return [await f for f in futs]\n",
    "\n",
    "\n",
    "await task_group2()"
   ]
  },
  {
   "cell_type": "markdown",
   "metadata": {},
   "source": [
    "Note that the line:\n",
    "```python\n",
    "[await f for f in futs]\n",
    "```\n",
    "\n",
    "is actually equivalent to:\n",
    "```python\n",
    "await asyncio.gather(*futs)\n",
    "```\n",
    "In this situation.\n",
    "\n",
    "Another and perhaps clearer way to write this is\n",
    "```python\n",
    "return [f.result() for f in futs]\n",
    "```\n",
    "\n",
    "As the task has already been completed and we simply require the results."
   ]
  },
  {
   "cell_type": "markdown",
   "metadata": {},
   "source": [
    "#### TaskGroup Benefits"
   ]
  },
  {
   "cell_type": "markdown",
   "metadata": {},
   "source": [
    "##### Better Structure\n",
    "\n",
    "TaskGroups essentially define areas of parallel code using the context manager, this makes it easier to spot these regions.\n",
    "\n",
    "```python\n",
    "async with asyncio.TaskGroup() as g:\n",
    "    ...  # Something parallel running here\n",
    "\n",
    "await blah  # somethings running in serial\n",
    "\n",
    "async with asyncio.TaskGroup() as g:\n",
    "    ...  # Another set of parallel tasks\n",
    "```\n",
    "\n",
    "Task groups may also be nested. This may provide more semantic meaning to your groups as well as better error handling we'll talk about later.\n",
    "\n",
    "For example:\n",
    "\n",
    "```python\n",
    "async with asyncio.TaskGroup() as server:\n",
    "    server.create_task(background_job())\n",
    "    async with asyncio.TaskGroup() as services:\n",
    "        services.create_task(service1.start())\n",
    "        services.create_task(service2.start())\n",
    "```\n",
    "\n",
    "This runs a `background_job` and starts `services`. Since the services are grouped up, then if one dies the others are also stopped.\n",
    "\n",
    "A service stopping also causes the `server` group to stop, which will terminate the background job.\n",
    "\n",
    "All in all, this can improve the readability of parallel code.\n"
   ]
  },
  {
   "cell_type": "markdown",
   "metadata": {},
   "source": [
    "##### Better Cancellation\n",
    "Using gather, by default, all tasks are run to completion. If one task errors that error is propagated, and the rest of the tasks run in the background to completion."
   ]
  },
  {
   "cell_type": "code",
   "execution_count": 33,
   "metadata": {},
   "outputs": [
    {
     "ename": "AbortError",
     "evalue": "Aborting the task",
     "output_type": "error",
     "traceback": [
      "\u001b[0;31m---------------------------------------------------------------------------\u001b[0m",
      "\u001b[0;31mAbortError\u001b[0m                                Traceback (most recent call last)",
      "\u001b[1;32m/home/jchang/git/python311/asyncio.ipynb Cell 13'\u001b[0m in \u001b[0;36m<cell line: 1>\u001b[0;34m()\u001b[0m\n\u001b[1;32m      <a href='vscode-notebook-cell://wsl%2Bubuntu-20.04/home/jchang/git/python311/asyncio.ipynb#ch0000010vscode-remote?line=7'>8</a>\u001b[0m         \u001b[39mraise\u001b[39;00m AbortError(\u001b[39m\"\u001b[39m\u001b[39mAborting the task\u001b[39m\u001b[39m\"\u001b[39m)\n\u001b[1;32m     <a href='vscode-notebook-cell://wsl%2Bubuntu-20.04/home/jchang/git/python311/asyncio.ipynb#ch0000010vscode-remote?line=9'>10</a>\u001b[0m     \u001b[39mprint\u001b[39m(\u001b[39m\"\u001b[39m\u001b[39mTask complete\u001b[39m\u001b[39m\"\u001b[39m)\n\u001b[0;32m---> <a href='vscode-notebook-cell://wsl%2Bubuntu-20.04/home/jchang/git/python311/asyncio.ipynb#ch0000010vscode-remote?line=12'>13</a>\u001b[0m \u001b[39mawait\u001b[39;00m asyncio\u001b[39m.\u001b[39mgather(\n\u001b[1;32m     <a href='vscode-notebook-cell://wsl%2Bubuntu-20.04/home/jchang/git/python311/asyncio.ipynb#ch0000010vscode-remote?line=13'>14</a>\u001b[0m     task_abort(\u001b[39m0.1\u001b[39m, \u001b[39mTrue\u001b[39;00m),\n\u001b[1;32m     <a href='vscode-notebook-cell://wsl%2Bubuntu-20.04/home/jchang/git/python311/asyncio.ipynb#ch0000010vscode-remote?line=14'>15</a>\u001b[0m     task_abort(\u001b[39m0.2\u001b[39m, \u001b[39mFalse\u001b[39;00m),\n\u001b[1;32m     <a href='vscode-notebook-cell://wsl%2Bubuntu-20.04/home/jchang/git/python311/asyncio.ipynb#ch0000010vscode-remote?line=15'>16</a>\u001b[0m     task_abort(\u001b[39m0.2\u001b[39m, \u001b[39mFalse\u001b[39;00m),\n\u001b[1;32m     <a href='vscode-notebook-cell://wsl%2Bubuntu-20.04/home/jchang/git/python311/asyncio.ipynb#ch0000010vscode-remote?line=16'>17</a>\u001b[0m )\n",
      "\u001b[1;32m/home/jchang/git/python311/asyncio.ipynb Cell 13'\u001b[0m in \u001b[0;36mtask_abort\u001b[0;34m(wait, abort)\u001b[0m\n\u001b[1;32m      <a href='vscode-notebook-cell://wsl%2Bubuntu-20.04/home/jchang/git/python311/asyncio.ipynb#ch0000010vscode-remote?line=5'>6</a>\u001b[0m \u001b[39mawait\u001b[39;00m asyncio\u001b[39m.\u001b[39msleep(wait)\n\u001b[1;32m      <a href='vscode-notebook-cell://wsl%2Bubuntu-20.04/home/jchang/git/python311/asyncio.ipynb#ch0000010vscode-remote?line=6'>7</a>\u001b[0m \u001b[39mif\u001b[39;00m abort:\n\u001b[0;32m----> <a href='vscode-notebook-cell://wsl%2Bubuntu-20.04/home/jchang/git/python311/asyncio.ipynb#ch0000010vscode-remote?line=7'>8</a>\u001b[0m     \u001b[39mraise\u001b[39;00m AbortError(\u001b[39m\"\u001b[39m\u001b[39mAborting the task\u001b[39m\u001b[39m\"\u001b[39m)\n\u001b[1;32m     <a href='vscode-notebook-cell://wsl%2Bubuntu-20.04/home/jchang/git/python311/asyncio.ipynb#ch0000010vscode-remote?line=9'>10</a>\u001b[0m \u001b[39mprint\u001b[39m(\u001b[39m\"\u001b[39m\u001b[39mTask complete\u001b[39m\u001b[39m\"\u001b[39m)\n",
      "\u001b[0;31mAbortError\u001b[0m: Aborting the task"
     ]
    },
    {
     "name": "stdout",
     "output_type": "stream",
     "text": [
      "Task complete\n",
      "Task complete\n"
     ]
    }
   ],
   "source": [
    "class AbortError(Exception):\n",
    "    pass\n",
    "\n",
    "\n",
    "async def task_abort(wait: float, abort: bool = False):\n",
    "    await asyncio.sleep(wait)\n",
    "    if abort:\n",
    "        raise AbortError(\"Aborting the task\")\n",
    "\n",
    "    print(\"Task complete\")\n",
    "\n",
    "\n",
    "await asyncio.gather(\n",
    "    task_abort(0.1, True),\n",
    "    task_abort(0.2, False),\n",
    "    task_abort(0.2, False),\n",
    ")"
   ]
  },
  {
   "cell_type": "markdown",
   "metadata": {},
   "source": [
    "In a task group, if one task is cancelled or aborted, all other tasks are cancelled."
   ]
  },
  {
   "cell_type": "code",
   "execution_count": 37,
   "metadata": {},
   "outputs": [
    {
     "ename": "ExceptionGroup",
     "evalue": "unhandled errors in a TaskGroup (2 sub-exceptions)",
     "output_type": "error",
     "traceback": [
      "\u001b[0;31m---------------------------------------------------------------------------\u001b[0m",
      "\u001b[0;31mExceptionGroup\u001b[0m                            Traceback (most recent call last)",
      "\u001b[1;32m/home/jchang/git/python311/asyncio.ipynb Cell 15'\u001b[0m in \u001b[0;36m<cell line: 1>\u001b[0;34m()\u001b[0m\n\u001b[1;32m      <a href='vscode-notebook-cell://wsl%2Bubuntu-20.04/home/jchang/git/python311/asyncio.ipynb#ch0000012vscode-remote?line=4'>5</a>\u001b[0m         g\u001b[39m.\u001b[39mcreate_task(task_abort(\u001b[39m0.2\u001b[39m, \u001b[39mFalse\u001b[39;00m))\n\u001b[1;32m      <a href='vscode-notebook-cell://wsl%2Bubuntu-20.04/home/jchang/git/python311/asyncio.ipynb#ch0000012vscode-remote?line=5'>6</a>\u001b[0m         g\u001b[39m.\u001b[39mcreate_task(task_abort(\u001b[39m0.2\u001b[39m, \u001b[39mFalse\u001b[39;00m))\n\u001b[0;32m----> <a href='vscode-notebook-cell://wsl%2Bubuntu-20.04/home/jchang/git/python311/asyncio.ipynb#ch0000012vscode-remote?line=8'>9</a>\u001b[0m \u001b[39mawait\u001b[39;00m task_group_abort()\n",
      "\u001b[1;32m/home/jchang/git/python311/asyncio.ipynb Cell 15'\u001b[0m in \u001b[0;36mtask_group_abort\u001b[0;34m()\u001b[0m\n\u001b[1;32m      <a href='vscode-notebook-cell://wsl%2Bubuntu-20.04/home/jchang/git/python311/asyncio.ipynb#ch0000012vscode-remote?line=0'>1</a>\u001b[0m \u001b[39masync\u001b[39;00m \u001b[39mdef\u001b[39;00m \u001b[39mtask_group_abort\u001b[39m():\n\u001b[0;32m----> <a href='vscode-notebook-cell://wsl%2Bubuntu-20.04/home/jchang/git/python311/asyncio.ipynb#ch0000012vscode-remote?line=1'>2</a>\u001b[0m     \u001b[39masync\u001b[39;00m \u001b[39mwith\u001b[39;00m asyncio\u001b[39m.\u001b[39mTaskGroup() \u001b[39mas\u001b[39;00m g:\n\u001b[1;32m      <a href='vscode-notebook-cell://wsl%2Bubuntu-20.04/home/jchang/git/python311/asyncio.ipynb#ch0000012vscode-remote?line=2'>3</a>\u001b[0m         g\u001b[39m.\u001b[39mcreate_task(task_abort(\u001b[39m0.1\u001b[39m, \u001b[39mTrue\u001b[39;00m))\n\u001b[1;32m      <a href='vscode-notebook-cell://wsl%2Bubuntu-20.04/home/jchang/git/python311/asyncio.ipynb#ch0000012vscode-remote?line=3'>4</a>\u001b[0m         g\u001b[39m.\u001b[39mcreate_task(task_abort(\u001b[39m0.1\u001b[39m, \u001b[39mTrue\u001b[39;00m))\n",
      "File \u001b[0;32m/usr/lib/python3.11/asyncio/taskgroups.py:139\u001b[0m, in \u001b[0;36mTaskGroup.__aexit__\u001b[0;34m(self, et, exc, tb)\u001b[0m\n\u001b[1;32m    <a href='file:///usr/lib/python3.11/asyncio/taskgroups.py?line=135'>136</a>\u001b[0m \u001b[39mself\u001b[39m\u001b[39m.\u001b[39m_errors \u001b[39m=\u001b[39m \u001b[39mNone\u001b[39;00m\n\u001b[1;32m    <a href='file:///usr/lib/python3.11/asyncio/taskgroups.py?line=137'>138</a>\u001b[0m me \u001b[39m=\u001b[39m BaseExceptionGroup(\u001b[39m'\u001b[39m\u001b[39munhandled errors in a TaskGroup\u001b[39m\u001b[39m'\u001b[39m, errors)\n\u001b[0;32m--> <a href='file:///usr/lib/python3.11/asyncio/taskgroups.py?line=138'>139</a>\u001b[0m \u001b[39mraise\u001b[39;00m me \u001b[39mfrom\u001b[39;00m \u001b[39mNone\u001b[39m\n",
      "\u001b[0;31mExceptionGroup\u001b[0m: unhandled errors in a TaskGroup (2 sub-exceptions)"
     ]
    }
   ],
   "source": [
    "async def task_group_abort():\n",
    "    async with asyncio.TaskGroup() as g:\n",
    "        g.create_task(task_abort(0.1, True))\n",
    "        g.create_task(task_abort(0.1, True))\n",
    "        g.create_task(task_abort(0.2, False))\n",
    "        g.create_task(task_abort(0.2, False))\n",
    "\n",
    "\n",
    "await task_group_abort()"
   ]
  },
  {
   "cell_type": "markdown",
   "metadata": {},
   "source": [
    "##### PEP 654 – Exception Groups and except*\n",
    "\n",
    "\n",
    "Note that exceptions are no longer individually raised but raised as a group in this case. This is a new feature in 3.11 allowing exceptions to be bundled up and handled properly."
   ]
  },
  {
   "cell_type": "code",
   "execution_count": 39,
   "metadata": {},
   "outputs": [
    {
     "name": "stdout",
     "output_type": "stream",
     "text": [
      "Got Aborting the task\n",
      "Got Aborting the task\n"
     ]
    }
   ],
   "source": [
    "try:\n",
    "    await task_group_abort()\n",
    "except ExceptionGroup as eg:\n",
    "    sub_group = eg.subgroup(AbortError)\n",
    "    if sub_group:\n",
    "        for e in sub_group.exceptions:\n",
    "            print(f\"Got {e}\")"
   ]
  },
  {
   "cell_type": "markdown",
   "metadata": {},
   "source": [
    "A new except* is introduced so we can handle this more easily."
   ]
  },
  {
   "cell_type": "code",
   "execution_count": 38,
   "metadata": {},
   "outputs": [
    {
     "name": "stdout",
     "output_type": "stream",
     "text": [
      "Got Aborting the task\n",
      "Got Aborting the task\n"
     ]
    }
   ],
   "source": [
    "try:\n",
    "    await task_group_abort()\n",
    "except* AbortError as eg:\n",
    "    for e in eg.exceptions:\n",
    "        print(f\"Got {e}\")\n"
   ]
  }
 ],
 "metadata": {
  "interpreter": {
   "hash": "4c04b547f2649ac0f68f86e700992c92ea1904f2a786cfdb4538dcafbe0f2ab2"
  },
  "kernelspec": {
   "display_name": "Python 3.11.0b1 ('.venv': poetry)",
   "language": "python",
   "name": "python3"
  },
  "language_info": {
   "codemirror_mode": {
    "name": "ipython",
    "version": 3
   },
   "file_extension": ".py",
   "mimetype": "text/x-python",
   "name": "python",
   "nbconvert_exporter": "python",
   "pygments_lexer": "ipython3",
   "version": "3.11.0"
  },
  "orig_nbformat": 4
 },
 "nbformat": 4,
 "nbformat_minor": 2
}
